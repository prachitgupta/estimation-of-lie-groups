{
 "cells": [
  {
   "cell_type": "markdown",
   "metadata": {},
   "source": [
    "                                                  Assignment 3\n",
    "210100111                                                                                 Prachit Gupta"
   ]
  },
  {
   "cell_type": "code",
   "execution_count": 245,
   "metadata": {},
   "outputs": [],
   "source": [
    "import numpy as np\n",
    "from scipy.linalg import polar"
   ]
  },
  {
   "cell_type": "code",
   "execution_count": 246,
   "metadata": {},
   "outputs": [],
   "source": [
    "### input data\n",
    "##define matrix\n",
    "V = np.array([[0.63,0.45,0.87],\n",
    "              [0.03,0.40,0.86],\n",
    "              [0.86,0.17,0.16],\n",
    "              [0.29,0.79,0.04],\n",
    "              [0.60,0.38,0.15],\n",
    "              [0.99,0.43,0.76]])\n",
    "\n",
    "W = np.array([[0.17,0.03,0.50],\n",
    "              [0.26,0.37,0.15],\n",
    "              [0.78,0.65,0.67],\n",
    "              [0.83,0.96,0.82],\n",
    "              [0.69,0.72,0.04],\n",
    "              [0.64,0.77,0.34]])"
   ]
  },
  {
   "cell_type": "code",
   "execution_count": 247,
   "metadata": {},
   "outputs": [],
   "source": [
    "## obtain matrix from quaternion\n",
    "def quaternion_to_dcm(q):\n",
    "    q1, q2, q3, q0 = q\n",
    "    dcmT = np.array([[q0**2 + q1**2 - q2**2 - q3**2, 2*(q1*q2 - q0*q3), 2*(q1*q3 + q0*q2)],\n",
    "                     [2*(q1*q2 + q0*q3), q0**2 - q1**2 + q2**2 - q3**2, 2*(q2*q3 - q0*q1)],\n",
    "                     [2*(q1*q3 - q0*q2), 2*(q2*q3 + q0*q1), q0**2 - q1**2 - q2**2 + q3**2]])\n",
    "    return dcmT.T"
   ]
  },
  {
   "cell_type": "code",
   "execution_count": 248,
   "metadata": {},
   "outputs": [
    {
     "name": "stdout",
     "output_type": "stream",
     "text": [
      "detU is 1\n",
      "[[ 0.97307269  0.22659041 -0.042265  ]\n",
      " [-0.21660168  0.96160772  0.16850611]\n",
      " [ 0.07882421 -0.15481402  0.98479407]]\n"
     ]
    }
   ],
   "source": [
    "##whabhas\n",
    "def RotationMatrix(v,w):\n",
    "    ##following steps acc to whabhas algorithm\n",
    "    ## M = Ux(N.T)x(X.T)xN\n",
    "    ##compute square matrix A \n",
    "    A = np.matmul(v,w.T)\n",
    "    ##decomposition of A into U and P\n",
    "    U, P = polar(A)\n",
    "    ##compute N and d from positive definate matrix P\n",
    "    eigValues,N = np.linalg.eig(P)\n",
    "    d = np.diag(eigValues)\n",
    "    ###compute X depending on detU\n",
    "    detU =  np.linalg.det(U)\n",
    "    k = len(eigValues)\n",
    "    epsilon = 0.1\n",
    "    if detU > -1 - 0.1 and detU < -1 + 0.1:\n",
    "        print(\"detU is -1\")\n",
    "        X = np.zeros((k,k))\n",
    "        X[0:k-1, 0:k-1] = np.eye(k-1)\n",
    "        X[-1,-1] = -1\n",
    "    elif detU > 1 - 0.1 and detU < 1 + 0.1:\n",
    "        print(\"detU is 1\")\n",
    "        X = np.eye(k) \n",
    "    else:  \n",
    "        print(\"error U is not orthogonal\")\n",
    "    ##compute M using M = Ux(N.T)x(X.T)xN\n",
    "    M = np.matmul(np.matmul(U,(N.T),(X.T)), N)\n",
    "    return M\n",
    "\n",
    "M_whabha = RotationMatrix(V.T,W.T)\n",
    "print(M_whabha)"
   ]
  },
  {
   "cell_type": "code",
   "execution_count": 249,
   "metadata": {},
   "outputs": [
    {
     "name": "stdout",
     "output_type": "stream",
     "text": [
      "Quaternion estimated = [0.08101742 0.03002042 0.11149527 0.9900019 ]\n",
      "\n",
      "Rotation matrix:\n",
      "[[ 0.97333516  0.22562541 -0.04137442]\n",
      " [-0.2158967   0.96200996  0.16710907]\n",
      " [ 0.07750666 -0.15372053  0.9850699 ]]\n",
      "\n"
     ]
    }
   ],
   "source": [
    "##quest reference 1981 Shushter paper (referred equations)\n",
    "\n",
    "def quest(V,W,weights): ##input matrix (3 x n) and weights(Summation weights = 1)\n",
    "    \n",
    "    ##compute B (intiution : stores input data info)\n",
    "    # Repeat weights along the second axis to match the shape of W\n",
    "    a_repeated = np.repeat(weights[:, np.newaxis], 3, axis=1) ## 6 x 3\n",
    "    # Perform element-wise multiplication of W and the repeated weights\n",
    "    W_weighted =  a_repeated.T*W \n",
    "    # Calculate the weighted sum of outer products of w and v\n",
    "    B = np.transpose(np.sum(np.matmul(W_weighted, V.T), axis=0)) ##eq 48\n",
    "    ##compute Z (used to compute gain K in bilinear form)\n",
    "    Z = np.array([B[1, 2] - B[2, 1], B[2, 0] - B[0, 2], B[0, 1] - B[1, 0]])  # Eqn.46\n",
    "    \n",
    "    ##compute S\n",
    "    S = B + B .T ##eq 45\n",
    "    ##eq 44 params\n",
    "    sig = np.trace(B) ##eq44 (Also 1/2 tarce(S))\n",
    "    delta = np.linalg.det(S) ##eq63\n",
    "    k = np.trace(delta * np.linalg.inv(S))##eq63\n",
    "    # Calculate parameters from equation 71\n",
    "    a = sig ** 2 - k\n",
    "    b = sig ** 2 + np.dot(Z.T, Z)\n",
    "    c = delta + np.dot(Z.T, np.dot(S, Z))\n",
    "    d = np.dot(Z.T, np.dot(S ** 2, Z))\n",
    "    constant = a*b + c*sig - d\n",
    "    \n",
    "    ##charateristics equation from 70\n",
    "    Lambda = np.sum(weights) ##unity\n",
    "    last_lambda = 0\n",
    "    epsilon = 10e-5##high accuracy as already have estimate\n",
    "    ##compute lambda using iterative newton raphson\n",
    "    while abs(Lambda - last_lambda) >= epsilon:\n",
    "        last_lambda = Lambda\n",
    "        f = Lambda**4 - (a + b)*Lambda**2 - c*Lambda + constant\n",
    "        f_dot = 4*Lambda**3 - 2*(a + b)*Lambda - c\n",
    "        Lambda = Lambda - f/f_dot\n",
    "      \n",
    "    ##eq 66 parameters\n",
    "    omega =  Lambda ## optimal\n",
    "    alpha = omega**2 - sig**2 + k\n",
    "    beta  = omega - sig\n",
    "    gamma = (omega + sig)*alpha - delta\n",
    "    \n",
    "    ##optimal quaternion from eq 68 and 69\n",
    "    X = np.matmul((alpha*np.eye(3) + beta*S + S@S) , Z)\n",
    "    Q_opt = np.concatenate([X, [gamma]]) / np.sqrt(gamma**2 + (np.linalg.norm(X))**2)\n",
    "    \n",
    "    ##generate optimal rotation matrix from quaternions\n",
    "    M = quaternion_to_dcm(Q_opt)\n",
    "    \n",
    "    return Q_opt, M\n",
    "\n",
    "a = 1/6*np.ones((6,1)) ## weights given\n",
    "Q, Mquest = quest(V.T,W.T,a) ##generate optimal matrix using quest\n",
    "\n",
    "print(f\"Quaternion estimated = {Q}\\n\")\n",
    "print(f\"Rotation matrix:\\n{Mquest}\\n\")\n"
   ]
  },
  {
   "cell_type": "code",
   "execution_count": 250,
   "metadata": {},
   "outputs": [
    {
     "name": "stdout",
     "output_type": "stream",
     "text": [
      "reference = [[ 0.5409569   0.06847907  0.83825786]\n",
      " [ 0.38639779 -0.90550396 -0.17538337]\n",
      " [ 0.74703573  0.41877583 -0.51629878]]\n",
      "\n",
      "observation = [[ 0.3213846  -0.83672029 -0.44340849]\n",
      " [ 0.05671493  0.48441701 -0.87299689]\n",
      " [ 0.94524883  0.25541988  0.2031387 ]]\n",
      "\n",
      "Rotation matrix: [[-0.25513326  0.95960231  0.11861881]\n",
      " [-0.66794375 -0.26361786  0.69595744]\n",
      " [ 0.69911241  0.0983312   0.70821805]]\n",
      "\n"
     ]
    }
   ],
   "source": [
    "##triad\n",
    "\n",
    "def triad_algorithm(V1, V2, W1, W2):\n",
    "    # Normalize vectors\n",
    "    ## known fixed vectors\n",
    "    V1 = V1 / np.linalg.norm(V1) ##unit vector\n",
    "    V2 = V2 / np.linalg.norm(V2)\n",
    "    ##observations\n",
    "    W1 = W1 / np.linalg.norm(W1)\n",
    "    W2 = W2 / np.linalg.norm(W2)\n",
    "    \n",
    "    # Calculate reference vectors triad\n",
    "    r1 = V1\n",
    "    \n",
    "    r2 = np.cross(V1, V2)\n",
    "    r2 /= np.linalg.norm(r2)\n",
    "    \n",
    "    r3 = np.cross(r1,r2)\n",
    "    ## reference matrix\n",
    "    Mref = np.array([r1,r2,r3]).T\n",
    "    print(f\"reference = {Mref}\\n\")\n",
    "    \n",
    "    ##Calculate observation vectors triad\n",
    "    s1 = W1\n",
    "    \n",
    "    s2 = np.cross(W1, W2)\n",
    "    s2 /= np.linalg.norm(s2)\n",
    "    \n",
    "    s3 = np.cross(s1,s2)\n",
    "    ##observation matrix\n",
    "    Mobs = (np.array([s1,s2,s3])).T\n",
    "    print(f\"observation = {Mobs}\\n\")\n",
    "    \n",
    "    ##rotation matrix of transformation\n",
    "    M = np.matmul(Mobs,Mref.T)\n",
    "    \n",
    "    return M\n",
    "\n",
    "v1, v2 = V[0:2, :]  ##first two fixed vectors\n",
    "w1,w2 = W[0:2,:]    ## first two measurements\n",
    "\n",
    "Mtriad = triad_algorithm(v1,v2, w1, w2)\n",
    "\n",
    "print(f\"Rotation matrix: {Mtriad}\\n\")\n"
   ]
  },
  {
   "cell_type": "code",
   "execution_count": 251,
   "metadata": {},
   "outputs": [
    {
     "name": "stdout",
     "output_type": "stream",
     "text": [
      "Whabha\n",
      "\n",
      "Ecludian errors is estimating each point is [0.736319097058084, 0.6788349921329151, 0.8042195665622492, 0.9886861265907655, 0.46997946853176503, 0.7235458800089997]\n",
      "net minimized LOSS Function norm obtained = 0.280970955725879\n",
      "\n",
      "Triad\n",
      "\n",
      "Ecludian errors is estimating each point is [0.6356416904093726, 0.5726922151980405, 1.4186104357377214, 1.4356826420967794, 1.316230907375301, 1.432973122256347]\n",
      "net minimized LOSS Function norm obtained = 0.7159610599813325\n",
      "\n",
      "Quest\n",
      "\n",
      "Ecludian errors is estimating each point is [0.7362929016145645, 0.6791017162472309, 0.8044092527985307, 0.9883707392395488, 0.46955757081373584, 0.7235809751751199]\n",
      "net minimized LOSS Function norm obtained = 0.2809425901745521\n",
      "\n"
     ]
    }
   ],
   "source": [
    "##erros and visulization\n",
    "def check_error(V,W,M,output,weights):\n",
    "    ## propagate weihts for element multiplication\n",
    "    weights = (np.repeat(weights[:, np.newaxis], 3, axis=1)) ## 6 x1 to 3 x 6\n",
    "    Vtransformed = np.matmul(M,V)\n",
    "    if output == 0:\n",
    "        error = np.linalg.norm(W - Vtransformed, ord=2)  # Frobenius norm\n",
    "    elif output == 1:\n",
    "        error = 0.5*np.sum((weights.T * np.square(np.abs(W - Vtransformed))))  # 2-norm\n",
    "    return error\n",
    "\n",
    "def display_errors(M):\n",
    "    errors = []\n",
    "    for i in range(V.shape[0]):\n",
    "        ei = check_error(V[i,:].T,W[i,:].T,M,0,a) ##compute indivisual errors\n",
    "        errors.append(ei)\n",
    "    print(f\"Ecludian errors is estimating each point is {errors}\")    \n",
    "    print(f\"net minimized LOSS Function norm obtained = {check_error(V.T, W.T, M,1,a)}\\n\")\n",
    " \n",
    "##whabha estimation\n",
    "print(\"Whabha\\n\")\n",
    "display_errors(M_whabha)   \n",
    "##Triad estimation\n",
    "print(\"Triad\\n\")\n",
    "display_errors(Mtriad)   \n",
    "##Quest estimation\n",
    "print(\"Quest\\n\")\n",
    "display_errors(Mquest)\n",
    "    "
   ]
  },
  {
   "cell_type": "markdown",
   "metadata": {},
   "source": [
    "Comments : Rotation matrix for estimation are quite similar for Quest and Whabhas Algorithm which minimizes loss function to a significant extend\n",
    "\n",
    "Triad method for estimation is computationally relatively simple but giving a prediction which are way off from reference vectors \n",
    "\n"
   ]
  }
 ],
 "metadata": {
  "kernelspec": {
   "display_name": "Python 3",
   "language": "python",
   "name": "python3"
  },
  "language_info": {
   "codemirror_mode": {
    "name": "ipython",
    "version": 3
   },
   "file_extension": ".py",
   "mimetype": "text/x-python",
   "name": "python",
   "nbconvert_exporter": "python",
   "pygments_lexer": "ipython3",
   "version": "3.8.10"
  }
 },
 "nbformat": 4,
 "nbformat_minor": 2
}
